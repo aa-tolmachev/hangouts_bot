{
 "cells": [
  {
   "cell_type": "code",
   "execution_count": 1,
   "metadata": {},
   "outputs": [],
   "source": [
    "from flask import Flask\n",
    "from flask import request\n",
    "import requests\n",
    "from flask import make_response\n",
    "import os\n",
    "import json\n",
    "from pandas import DataFrame\n",
    "import traceback\n",
    "\n",
    "app = Flask(__name__)\n",
    "\n",
    "@app.route('/', methods=['POST'])\n",
    "def on_event():\n",
    "  \"\"\"Handles an event from Hangouts Chat.\"\"\"\n",
    "  event = request.get_json()\n",
    "  if event['type'] == 'ADDED_TO_SPACE' and event['space']['type'] == 'ROOM':\n",
    "    text = 'Thanks for adding me to \"%s\"!' % event['space']['displayName']\n",
    "  elif event['type'] == 'MESSAGE':\n",
    "    text = 'You said: `%s`' % event['message']['text']\n",
    "  else:\n",
    "    return\n",
    "  return json.jsonify({'text': text})\n",
    "\n",
    "\n",
    "\n",
    "\n",
    "\n",
    "\n",
    "if __name__ == \"__main__\":\n",
    "    port = int(os.getenv('PORT', 5000))\n",
    "    app.run(debug=False, port=port, host='0.0.0.0')\n",
    "\n"
   ]
  },
  {
   "cell_type": "code",
   "execution_count": null,
   "metadata": {
    "collapsed": true
   },
   "outputs": [],
   "source": []
  }
 ],
 "metadata": {
  "anaconda-cloud": {},
  "kernelspec": {
   "display_name": "Python 3",
   "language": "python",
   "name": "python3"
  },
  "language_info": {
   "codemirror_mode": {
    "name": "ipython",
    "version": 3
   },
   "file_extension": ".py",
   "mimetype": "text/x-python",
   "name": "python",
   "nbconvert_exporter": "python",
   "pygments_lexer": "ipython3",
   "version": "3.7.3"
  }
 },
 "nbformat": 4,
 "nbformat_minor": 1
}
